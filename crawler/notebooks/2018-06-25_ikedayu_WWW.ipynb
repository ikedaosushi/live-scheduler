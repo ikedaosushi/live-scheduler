{
 "cells": [
  {
   "cell_type": "code",
   "execution_count": 17,
   "metadata": {},
   "outputs": [
    {
     "name": "stdout",
     "output_type": "stream",
     "text": [
      "The autoreload extension is already loaded. To reload it, use:\n",
      "  %reload_ext autoreload\n"
     ]
    }
   ],
   "source": [
    "%load_ext autoreload\n",
    "%autoreload 2\n",
    "\n",
    "import os, sys, re\n",
    "from pathlib import Path\n",
    "\n",
    "pj_dir = Path(os.getcwd()).parent\n",
    "data_dir = pj_dir/'data'\n",
    "src_dir = pj_dir/'src'\n",
    "sys.path.append(str(src_dir))"
   ]
  },
  {
   "cell_type": "code",
   "execution_count": 2,
   "metadata": {},
   "outputs": [],
   "source": [
    "from requests_html import HTMLSession\n",
    "import pandas as pd"
   ]
  },
  {
   "cell_type": "code",
   "execution_count": 3,
   "metadata": {},
   "outputs": [],
   "source": [
    "sess = HTMLSession()"
   ]
  },
  {
   "cell_type": "code",
   "execution_count": 4,
   "metadata": {},
   "outputs": [],
   "source": [
    "r = sess.get('http://www-shibuya.jp/schedule/#wwwxwww/201806')"
   ]
  },
  {
   "cell_type": "code",
   "execution_count": 5,
   "metadata": {},
   "outputs": [],
   "source": [
    "articles = r.html.find('#eventList > div > article')"
   ]
  },
  {
   "cell_type": "code",
   "execution_count": 8,
   "metadata": {},
   "outputs": [],
   "source": [
    "from datetime import date\n",
    "class Event():\n",
    "    def __init__(self):\n",
    "        self.year = 0\n",
    "        self.month = 0\n",
    "        self.day = 0\n",
    "        self.title = ''\n",
    "        self.artist = ''\n",
    "        self.description = ''\n",
    "        self.url = ''\n",
    "        self.open_ = ''\n",
    "        self.start = ''\n",
    "        self.place = ''\n",
    "        \n",
    "    @property\n",
    "    def date(self):\n",
    "        return date(self.year, self.month, self.day)\n",
    "    \n",
    "    def tolist(self):\n",
    "        return [self.place, self.title, self.artist, self.description, self.url, self.date, self.open_, self.start]"
   ]
  },
  {
   "cell_type": "code",
   "execution_count": 14,
   "metadata": {},
   "outputs": [],
   "source": [
    "ls_events = []\n",
    "for article in articles:\n",
    "    event = Event()\n",
    "    event.url = article.find('.pageLink', first=True).attrs.get('href', '')\n",
    "    event.year = 2018\n",
    "    event.month = 6\n",
    "    event.day = int(article.find('.inner .event .date .day', first=True).text)\n",
    "    event.place = article.find('.inner .placeLabel span', first=True).text\n",
    "    event.artist = article.find('.inner .info .title', first=True).text\n",
    "    event.title = article.find('.inner .info .exp span', first=True).text\n",
    "    openstart = article.find('.inner .info .openstart', first=True).text\n",
    "    oss = openstart.replace('OPEN / START\\u3000', '').split('/')\n",
    "    if len(oss) == 2:\n",
    "        event.open_, event.start = oss\n",
    "    ls_events.append(event)"
   ]
  },
  {
   "cell_type": "code",
   "execution_count": 20,
   "metadata": {},
   "outputs": [
    {
     "data": {
      "text/plain": [
       "['201806_www']"
      ]
     },
     "execution_count": 20,
     "metadata": {},
     "output_type": "execute_result"
    }
   ],
   "source": [
    "os.listdir(data_dir/'live')"
   ]
  },
  {
   "cell_type": "code",
   "execution_count": 21,
   "metadata": {},
   "outputs": [],
   "source": [
    "df = pd.DataFrame([e.tolist() for e in ls_events], columns=['place', 'title', 'artist', 'description', 'url', 'date', 'open_', 'start'])\n",
    "df.to_csv(data_dir/'live/201806_www.csv')"
   ]
  }
 ],
 "metadata": {
  "kernelspec": {
   "display_name": "Python 3",
   "language": "python",
   "name": "python3"
  },
  "language_info": {
   "codemirror_mode": {
    "name": "ipython",
    "version": 3
   },
   "file_extension": ".py",
   "mimetype": "text/x-python",
   "name": "python",
   "nbconvert_exporter": "python",
   "pygments_lexer": "ipython3",
   "version": "3.6.5"
  }
 },
 "nbformat": 4,
 "nbformat_minor": 2
}
