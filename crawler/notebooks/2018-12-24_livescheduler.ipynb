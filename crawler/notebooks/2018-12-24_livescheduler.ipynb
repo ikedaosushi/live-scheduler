{
 "cells": [
  {
   "cell_type": "code",
   "execution_count": 1,
   "metadata": {},
   "outputs": [],
   "source": [
    "%load_ext autoreload\n",
    "%autoreload 2\n",
    "%matplotlib inline\n",
    "from IPython.display import Image\n",
    "\n",
    "import os, sys, re, datetime, time\n",
    "from pathlib import Path\n",
    "\n",
    "pj_dir = Path(os.getcwd()).parents[0]\n",
    "data_dir = pj_dir/'data'\n",
    "img_dir = pj_dir/'images'\n",
    "src_dir = pj_dir/'src'\n",
    "sys.path.append(str(src_dir))\n",
    "\n",
    "from matplotlib import pyplot as plt\n",
    "import japanize_matplotlib\n",
    "import seaborn as sns\n",
    "plt.style.use(\"bmh\")\n",
    "import numpy as np\n",
    "import pandas as pd\n",
    "import dask.dataframe as dd\n",
    "\n",
    "from tqdm import tqdm_notebook\n",
    "from dotenv import load_dotenv"
   ]
  },
  {
   "cell_type": "code",
   "execution_count": 2,
   "metadata": {},
   "outputs": [],
   "source": [
    "from requests_html import HTML"
   ]
  },
  {
   "cell_type": "code",
   "execution_count": 3,
   "metadata": {},
   "outputs": [],
   "source": [
    "from selenium import webdriver\n",
    "from selenium.webdriver.chrome.options import Options"
   ]
  },
  {
   "cell_type": "code",
   "execution_count": 4,
   "metadata": {},
   "outputs": [],
   "source": [
    "options = Options()\n",
    "options.binary_location = '/Applications/Google Chrome.app/Contents/MacOS/Google Chrome'\n",
    "options.add_argument('--headless')\n",
    "options.add_argument('--no-sandbox')\n",
    "options.add_argument('--single-process')\n",
    "options.add_argument('--disable-dev-shm-usage')"
   ]
  },
  {
   "cell_type": "code",
   "execution_count": 5,
   "metadata": {},
   "outputs": [
    {
     "name": "stderr",
     "output_type": "stream",
     "text": [
      "/Users/yutaro_ikeda/.pyenv/versions/3.6.5/lib/python3.6/site-packages/ipykernel_launcher.py:1: DeprecationWarning: use options instead of chrome_options\n",
      "  \"\"\"Entry point for launching an IPython kernel.\n"
     ]
    }
   ],
   "source": [
    "driver = webdriver.Chrome(chrome_options=options)"
   ]
  },
  {
   "cell_type": "code",
   "execution_count": 6,
   "metadata": {},
   "outputs": [],
   "source": [
    "endpoint = 'https://www-shibuya.jp/schedule/#wwwxwww/'"
   ]
  },
  {
   "cell_type": "code",
   "execution_count": 7,
   "metadata": {},
   "outputs": [],
   "source": [
    "ls_events = []"
   ]
  },
  {
   "cell_type": "code",
   "execution_count": 8,
   "metadata": {},
   "outputs": [],
   "source": [
    "from dateutil.relativedelta import relativedelta"
   ]
  },
  {
   "cell_type": "code",
   "execution_count": 9,
   "metadata": {},
   "outputs": [],
   "source": [
    "today = datetime.datetime.today()"
   ]
  },
  {
   "cell_type": "code",
   "execution_count": 10,
   "metadata": {},
   "outputs": [],
   "source": [
    "from requests_html import HTML"
   ]
  },
  {
   "cell_type": "code",
   "execution_count": 11,
   "metadata": {},
   "outputs": [],
   "source": [
    "driver.get(endpoint)\n",
    "time.sleep(3)\n",
    "\n",
    "for i in range(3): # 3ヶ月分\n",
    "    current_date = today + relativedelta(month=i)\n",
    "    year = current_date.year\n",
    "    month = current_date.month\n",
    "    \n",
    "    html = HTML(html=driver.page_source, url='')\n",
    "    articles = html.find('#eventList > div > article')\n",
    "    for article in articles:        \n",
    "        day = int(article.find('.date .day', first=True).text)\n",
    "        datetime_ = datetime.date(year, month, day)\n",
    "\n",
    "        url = article.find('.pageLink', first=True).attrs.get('href')\n",
    "        place = article.find('.inner .placeLabel span', first=True).text\n",
    "        artist = article.find('.inner .info .title', first=True).text\n",
    "        title = article.find('.inner .info .exp span', first=True).text\n",
    "        openstart = article.find('.inner .info .openstart', first=True).text\n",
    "        oss = openstart.replace('OPEN / START\\u3000', '').split('/')\n",
    "        if len(oss) == 2:\n",
    "            open_, start = oss\n",
    "\n",
    "        dic_event = {\n",
    "            'datetime': datetime_, 'url': url, 'place': place, 'artist': artist, 'title': title,\n",
    "            'open': open_, 'start': start, 'open_start': oss\n",
    "        }\n",
    "        ls_events.append(dic_event)\n",
    "    next_button = driver.find_element_by_css_selector('#schedule > * > ul > li.next > a')\n",
    "    next_button.click()"
   ]
  },
  {
   "cell_type": "code",
   "execution_count": 12,
   "metadata": {},
   "outputs": [],
   "source": [
    "df = pd.DataFrame(ls_events)"
   ]
  },
  {
   "cell_type": "code",
   "execution_count": 18,
   "metadata": {},
   "outputs": [],
   "source": [
    "load_dotenv(pj_dir/'.env')\n",
    "os.environ.get('AWS_ACCESS_KEY'), \n",
    "from boto3.session import Session\n",
    "\n",
    "aws_access_key_id = os.environ.get('AWS_ACCESS_KEY')\n",
    "aws_secret_access_key = os.environ.get('AWS_SECRET_KEY')\n",
    "\n",
    "session = Session(aws_access_key_id=aws_access_key_id, aws_secret_access_key=aws_secret_access_key)\n",
    "dynamodb = session.resource('dynamodb', region_name='ap-northeast-1')"
   ]
  },
  {
   "cell_type": "code",
   "execution_count": 36,
   "metadata": {},
   "outputs": [],
   "source": [
    "table_name = 'live-scheduler-crawler-dev'\n",
    "table = dynamodb.Table(table_name)"
   ]
  },
  {
   "cell_type": "code",
   "execution_count": 59,
   "metadata": {},
   "outputs": [
    {
     "data": {
      "text/plain": [
       "'helloworld'"
      ]
     },
     "execution_count": 59,
     "metadata": {},
     "output_type": "execute_result"
    }
   ],
   "source": [
    "'Hello Wo rld'.lower().replace(' ', '')"
   ]
  },
  {
   "cell_type": "code",
   "execution_count": 60,
   "metadata": {},
   "outputs": [],
   "source": [
    "for event in ls_events:\n",
    "    id_ = \"{}_{}\".format(event['place'].lower().replace(' ', ''), event['datetime'].strftime('%Y%m%d'))\n",
    "    item = {\n",
    "        'id': id_,\n",
    "        'title': event['title'],\n",
    "        'date': event['datetime'].strftime('%Y-%m-%d'),\n",
    "        'place': event['place'], \n",
    "        'artist': event['artist'],\n",
    "        'open': event['open'],\n",
    "        'start': event['start']\n",
    "    }\n",
    "\n",
    "    item = {k: v for k, v in item.items() if v}\n",
    "    table.put_item(Item=item)"
   ]
  },
  {
   "cell_type": "code",
   "execution_count": 33,
   "metadata": {},
   "outputs": [],
   "source": [
    "from boto3.dynamodb.conditions import Key, Attr"
   ]
  },
  {
   "cell_type": "code",
   "execution_count": 47,
   "metadata": {},
   "outputs": [
    {
     "data": {
      "text/plain": [
       "{'Items': [{'artist': 'HAMIDASYSTEM',\n",
       "   'date': '2018-12-18',\n",
       "   'place': 'WWW',\n",
       "   'open': '18:15 ',\n",
       "   'id': 'WWW_20181218',\n",
       "   'start': ' 19:00',\n",
       "   'title': 'HAMIDASYSTEM2周年記念ワンマンライブ「黎明の貴方」'},\n",
       "  {'artist': 'MOROHA',\n",
       "   'date': '2018-12-18',\n",
       "   'place': 'WWW X',\n",
       "   'open': '18:30 ',\n",
       "   'id': 'WWW X_20181218',\n",
       "   'start': ' 19:30',\n",
       "   'title': 'MOROHA BEST RELEASE TOUR 〜置いていかれた曲達〜'},\n",
       "  {'artist': 'FIZZY POP(ナチュラル炭酸)',\n",
       "   'date': '2018-12-19',\n",
       "   'place': 'WWW X',\n",
       "   'open': '18:00 ',\n",
       "   'id': 'WWW X_20181219',\n",
       "   'start': ' 19:00',\n",
       "   'title': 'FIZZYPOP 2nd ONEMAN LIVE 〜Take Off to the SKY〜 Day1 - Black Night -'},\n",
       "  {'artist': 'AAAMYYY / STEPHENSMITH',\n",
       "   'date': '2018-12-19',\n",
       "   'place': 'WWW',\n",
       "   'open': '19:30 ',\n",
       "   'id': 'WWW_20181219',\n",
       "   'start': ' 20:00',\n",
       "   'title': 'WWW presents dots'},\n",
       "  {'artist': '4年2組 / 他',\n",
       "   'date': '2018-12-20',\n",
       "   'place': 'WWW',\n",
       "   'open': '17:30 ',\n",
       "   'id': 'WWW_20181220',\n",
       "   'start': ' 18:30',\n",
       "   'title': '4年2組単独クラス会@渋谷WWW 〜今年の嫌なこと全部忘れちまえっ！〜'},\n",
       "  {'artist': 'FIZZY POP(ナチュラル炭酸)',\n",
       "   'date': '2018-12-20',\n",
       "   'place': 'WWW X',\n",
       "   'open': '18:00 ',\n",
       "   'id': 'WWW X_20181220',\n",
       "   'start': ' 19:00',\n",
       "   'title': 'FIZZYPOP 2nd ONEMAN LIVE 〜Take Off to the SKY〜 Day2 - White Night -'}],\n",
       " 'Count': 6,\n",
       " 'ScannedCount': 64,\n",
       " 'ResponseMetadata': {'RequestId': '73JPMR4QJBIACI1IA5SJ8ESVPVVV4KQNSO5AEMVJF66Q9ASUAAJG',\n",
       "  'HTTPStatusCode': 200,\n",
       "  'HTTPHeaders': {'server': 'Server',\n",
       "   'date': 'Sun, 23 Dec 2018 16:21:28 GMT',\n",
       "   'content-type': 'application/x-amz-json-1.0',\n",
       "   'content-length': '1468',\n",
       "   'connection': 'keep-alive',\n",
       "   'x-amzn-requestid': '73JPMR4QJBIACI1IA5SJ8ESVPVVV4KQNSO5AEMVJF66Q9ASUAAJG',\n",
       "   'x-amz-crc32': '2056389358'},\n",
       "  'RetryAttempts': 0}}"
      ]
     },
     "execution_count": 47,
     "metadata": {},
     "output_type": "execute_result"
    }
   ],
   "source": [
    "table.scan(\n",
    "    FilterExpression=Attr('date').between('2018-12-18', '2018-12-20')\n",
    ")"
   ]
  },
  {
   "cell_type": "code",
   "execution_count": null,
   "metadata": {},
   "outputs": [],
   "source": []
  },
  {
   "cell_type": "code",
   "execution_count": null,
   "metadata": {},
   "outputs": [],
   "source": []
  },
  {
   "cell_type": "code",
   "execution_count": null,
   "metadata": {},
   "outputs": [],
   "source": []
  },
  {
   "cell_type": "code",
   "execution_count": null,
   "metadata": {},
   "outputs": [],
   "source": []
  },
  {
   "cell_type": "code",
   "execution_count": null,
   "metadata": {},
   "outputs": [],
   "source": [
    "'.next .pageLink'"
   ]
  },
  {
   "cell_type": "code",
   "execution_count": 50,
   "metadata": {},
   "outputs": [],
   "source": [
    "e = ls_events[0]"
   ]
  },
  {
   "cell_type": "code",
   "execution_count": 51,
   "metadata": {},
   "outputs": [
    {
     "data": {
      "text/plain": [
       "'20181101'"
      ]
     },
     "execution_count": 51,
     "metadata": {},
     "output_type": "execute_result"
    }
   ],
   "source": [
    "e.date.strftime('%Y%m%d')"
   ]
  },
  {
   "cell_type": "code",
   "execution_count": 40,
   "metadata": {},
   "outputs": [],
   "source": [
    "from datetime import datetime"
   ]
  },
  {
   "cell_type": "code",
   "execution_count": 1,
   "metadata": {},
   "outputs": [],
   "source": [
    "from dotenv import load_dotenv\n",
    "\n",
    "import os\n",
    "from pathlib import Path\n",
    "\n",
    "pj_dir = Path(os.getcwd()).parents[1]\n",
    "\n",
    "load_dotenv(pj_dir/'.env')\n",
    "\n",
    "os.environ.get('AWS_ACCESS_KEY'), \n",
    "\n",
    "from boto3.session import Session\n",
    "\n",
    "aws_access_key_id = os.environ.get('AWS_ACCESS_KEY')\n",
    "aws_secret_access_key = os.environ.get('AWS_SECRET_KEY')\n",
    "\n",
    "session = Session(aws_access_key_id=aws_access_key_id, aws_secret_access_key=aws_secret_access_key)\n",
    "dynamodb = session.resource('dynamodb', region_name='ap-northeast-1')"
   ]
  },
  {
   "cell_type": "code",
   "execution_count": 21,
   "metadata": {},
   "outputs": [],
   "source": [
    "table_name = 'Foo'\n",
    "table = dynamodb.Table(table_name)"
   ]
  },
  {
   "cell_type": "code",
   "execution_count": 22,
   "metadata": {},
   "outputs": [
    {
     "data": {
      "text/plain": [
       "{'ResponseMetadata': {'RequestId': 'MCK1I1N5NDHSR7INJSD2M90QANVV4KQNSO5AEMVJF66Q9ASUAAJG',\n",
       "  'HTTPStatusCode': 200,\n",
       "  'HTTPHeaders': {'server': 'Server',\n",
       "   'date': 'Sun, 25 Nov 2018 06:14:27 GMT',\n",
       "   'content-type': 'application/x-amz-json-1.0',\n",
       "   'content-length': '2',\n",
       "   'connection': 'keep-alive',\n",
       "   'x-amzn-requestid': 'MCK1I1N5NDHSR7INJSD2M90QANVV4KQNSO5AEMVJF66Q9ASUAAJG',\n",
       "   'x-amz-crc32': '2745614147'},\n",
       "  'RetryAttempts': 0}}"
      ]
     },
     "execution_count": 22,
     "metadata": {},
     "output_type": "execute_result"
    }
   ],
   "source": [
    "test_data = {\n",
    "    'id': 'hogehoge', \n",
    "    'test': 'hello22',\n",
    "    'foo': 'bar'\n",
    "}\n",
    "\n",
    "table.put_item(Item=test_data)"
   ]
  },
  {
   "cell_type": "code",
   "execution_count": null,
   "metadata": {},
   "outputs": [],
   "source": []
  }
 ],
 "metadata": {
  "kernelspec": {
   "display_name": "Python 3",
   "language": "python",
   "name": "python3"
  },
  "language_info": {
   "codemirror_mode": {
    "name": "ipython",
    "version": 3
   },
   "file_extension": ".py",
   "mimetype": "text/x-python",
   "name": "python",
   "nbconvert_exporter": "python",
   "pygments_lexer": "ipython3",
   "version": "3.6.5"
  }
 },
 "nbformat": 4,
 "nbformat_minor": 2
}
