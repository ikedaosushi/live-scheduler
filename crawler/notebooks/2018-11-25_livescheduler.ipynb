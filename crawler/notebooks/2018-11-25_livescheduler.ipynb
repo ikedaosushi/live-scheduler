{
 "cells": [
  {
   "cell_type": "code",
   "execution_count": 23,
   "metadata": {},
   "outputs": [],
   "source": [
    "from requests_html import HTMLSession\n",
    "import json\n",
    "import re"
   ]
  },
  {
   "cell_type": "code",
   "execution_count": 25,
   "metadata": {},
   "outputs": [],
   "source": [
    "endpoint = 'http://www-shibuya.jp/schedule/#wwwxwww/{}'\n",
    "sess = HTMLSession()\n",
    "r = sess.get(endpoint.format('201811'))"
   ]
  },
  {
   "cell_type": "code",
   "execution_count": 26,
   "metadata": {},
   "outputs": [],
   "source": [
    "articles = r.html.find('#eventList > div > article')"
   ]
  },
  {
   "cell_type": "code",
   "execution_count": 28,
   "metadata": {},
   "outputs": [],
   "source": [
    "from datetime import date\n",
    "class Event():\n",
    "    def __init__(self):\n",
    "        self.year = 0\n",
    "        self.month = 0\n",
    "        self.day = 0\n",
    "        self.title = ''\n",
    "        self.artist = ''\n",
    "        self.description = ''\n",
    "        self.url = ''\n",
    "        self.open_ = ''\n",
    "        self.start = ''\n",
    "        self.place = ''\n",
    "        \n",
    "    @property\n",
    "    def date(self):\n",
    "        return date(self.year, self.month, self.day)\n",
    "    \n",
    "    def tolist(self):\n",
    "        return [self.place, self.title, self.artist, self.description, self.url, self.date, self.open_, self.start]"
   ]
  },
  {
   "cell_type": "code",
   "execution_count": 39,
   "metadata": {},
   "outputs": [],
   "source": [
    "import pandas as pd"
   ]
  },
  {
   "cell_type": "code",
   "execution_count": 64,
   "metadata": {},
   "outputs": [
    {
     "name": "stdout",
     "output_type": "stream",
     "text": [
      "201811\n"
     ]
    }
   ],
   "source": [
    "ls_events = []\n",
    "area = 'www'\n",
    "for date_ in pd.date_range(datetime.today(), periods=1, freq='1m'):\n",
    "    year = date_.year\n",
    "    month = date_.month\n",
    "    yearmonth = '{}{:0>2}'.format(year, month)\n",
    "    print(yearmonth)\n",
    "    endpoint = 'http://www-shibuya.jp/schedule/#wwwxwww/{}'\n",
    "    sess = HTMLSession()\n",
    "    r = sess.get(endpoint.format(yearmonth))\n",
    "    \n",
    "    articles = r.html.find('#eventList > div > article')\n",
    "    for article in articles:\n",
    "        event = Event()\n",
    "        event.url = article.find('.pageLink', first=True).attrs.get('href', '')\n",
    "        event.year = year\n",
    "        event.month = month\n",
    "        event.day = int(article.find('.inner .event .date .day', first=True).text)\n",
    "        event.place = article.find('.inner .placeLabel span', first=True).text\n",
    "        event.artist = article.find('.inner .info .title', first=True).text\n",
    "        event.title = article.find('.inner .info .exp span', first=True).text\n",
    "        openstart = article.find('.inner .info .openstart', first=True).text\n",
    "        oss = openstart.replace('OPEN / START\\u3000', '').split('/')\n",
    "        if len(oss) == 2:\n",
    "            event.open_, event.start = oss\n",
    "        ls_events.append(event)"
   ]
  },
  {
   "cell_type": "code",
   "execution_count": 70,
   "metadata": {},
   "outputs": [],
   "source": [
    "table_name = 'live-scheduler'\n",
    "table = dynamodb.Table(table_name)"
   ]
  },
  {
   "cell_type": "code",
   "execution_count": 73,
   "metadata": {},
   "outputs": [],
   "source": [
    "for e in ls_events:\n",
    "    id_ = \"{}_{}\".format(area, e.date.strftime('%Y%m%d'))\n",
    "    event_data = {\n",
    "        'id': id_,\n",
    "        'title': e.title,\n",
    "        'date': e.date.strftime('%Y%m%d'),\n",
    "        'place': e.place, \n",
    "        'artist': e.artist\n",
    "    }\n",
    "    if event.open_:\n",
    "        event_data['open'] = event.open_\n",
    "    if event.start:\n",
    "        event_data['start'] = event.start \n",
    "\n",
    "    event_data = {k: v for k, v in event_data.items() if v}\n",
    "    table.put_item(Item=event_data)"
   ]
  },
  {
   "cell_type": "code",
   "execution_count": 75,
   "metadata": {},
   "outputs": [
    {
     "data": {
      "text/plain": [
       "[{'artist': 'バンドハラスメント / KAKASHI / kobore / リアクション ザ ブッタ / VOI SQUARE CAT / Suspended 4th',\n",
       "  'date': '20181109',\n",
       "  'place': 'WWW X',\n",
       "  'open': '18:00 ',\n",
       "  'id': 'www_20181109',\n",
       "  'start': ' 19:00',\n",
       "  'title': '「GRIOTTO」'},\n",
       " {'artist': '女子独身倶楽部 / and more',\n",
       "  'date': '20181106',\n",
       "  'place': 'WWW',\n",
       "  'open': '18:00 ',\n",
       "  'id': 'www_20181106',\n",
       "  'start': ' 19:00',\n",
       "  'title': \"女子独身倶楽部主催 ～4thアルバム発売記念 ROCK'N'ROLL FITNESS LIVE Festival Ⅱ！！〜\"},\n",
       " {'artist': 'Amaryllis Bomb / phatmans after school / QoN',\n",
       "  'date': '20181129',\n",
       "  'place': 'WWW',\n",
       "  'open': '18:00 ',\n",
       "  'id': 'www_20181129',\n",
       "  'start': ' 19:00',\n",
       "  'title': 'SHIBUYA404'},\n",
       " {'artist': 'Martin Messier & YRO CA/QC+FR / Michela Pelusio IT / ZVIZMO JP +more',\n",
       "  'date': '20181101',\n",
       "  'place': 'WWW',\n",
       "  'open': '18:00 ',\n",
       "  'id': 'www_20181101',\n",
       "  'start': ' 19:00',\n",
       "  'title': 'A/Visions 1'},\n",
       " {'artist': '東京パフォーマンスドール',\n",
       "  'date': '20181121',\n",
       "  'place': 'WWW X',\n",
       "  'open': '18:00 ',\n",
       "  'id': 'www_20181121',\n",
       "  'start': ' 19:00',\n",
       "  'title': '渋谷 LIVE CIRCUIT'},\n",
       " {'artist': 'マカロニえんぴつ / ヤングオオハラ / The Songbards / BAR STAGE ACT : 松本大 from LAMP IN TERREN / 古舘佑太郎 from ...',\n",
       "  'date': '20181119',\n",
       "  'place': 'WWW',\n",
       "  'open': '18:00 ',\n",
       "  'id': 'www_20181119',\n",
       "  'start': ' 19:00',\n",
       "  'title': 'スペースシャワー列伝 第138巻～年百年中(ねんびゃくねんじゅう)の宴～'},\n",
       " {'artist': 'THE MACKSHOW',\n",
       "  'date': '20181125',\n",
       "  'place': 'WWW',\n",
       "  'open': '18:00 ',\n",
       "  'id': 'www_20181125',\n",
       "  'start': ' 19:00',\n",
       "  'title': 'ザ・マックショウツアー GET DOWN ʼ93 ツアーファイナル!'},\n",
       " {'artist': 'Sweet William & Jinmenusagi',\n",
       "  'date': '20181122',\n",
       "  'place': 'WWW X',\n",
       "  'open': '18:00 ',\n",
       "  'id': 'www_20181122',\n",
       "  'start': ' 19:00',\n",
       "  'title': 'la blanka'},\n",
       " {'artist': 'KNOCK OUT MONKEY',\n",
       "  'date': '20181111',\n",
       "  'place': 'WWW X',\n",
       "  'open': '18:00 ',\n",
       "  'id': 'www_20181111',\n",
       "  'start': ' 19:00',\n",
       "  'title': 'KNOCK OUT MONKEY TOUR 2018-2019 \"BACK TO THE MIXTURE\"'},\n",
       " {'artist': 'Live : STUTS / Band : 仰木亮彦(Gt.)/ 高橋佑成(Pf, Rhodes etc.) / nakayaan(Ba) / MC.sirafu(tp) / Gu...',\n",
       "  'date': '20181103',\n",
       "  'place': 'WWW X',\n",
       "  'open': '18:00 ',\n",
       "  'id': 'www_20181103',\n",
       "  'start': ' 19:00',\n",
       "  'title': 'STUTS \"Eutopia\" Release Tour'},\n",
       " {'artist': 'Bruno Pernadas / DJ：荒内佑(cero)',\n",
       "  'open': '18:00 ',\n",
       "  'date': '20181105',\n",
       "  'id': 'www_20181105',\n",
       "  'start': ' 19:00',\n",
       "  'place': 'WWW X'},\n",
       " {'artist': 'mabanua',\n",
       "  'date': '20181114',\n",
       "  'place': 'WWW X',\n",
       "  'open': '18:00 ',\n",
       "  'id': 'www_20181114',\n",
       "  'start': ' 19:00',\n",
       "  'title': 'mabanua tour 2018 \"Blurred\"'},\n",
       " {'artist': 'カジヒデキ / おとぎ話 / 堀江博久',\n",
       "  'date': '20181120',\n",
       "  'place': 'WWW',\n",
       "  'open': '18:00 ',\n",
       "  'id': 'www_20181120',\n",
       "  'start': ' 19:00',\n",
       "  'title': '秋のオリーブ'},\n",
       " {'artist': '東京塩麹 / Guest：ASA-CHANG＆巡礼',\n",
       "  'date': '20181117',\n",
       "  'place': 'WWW',\n",
       "  'open': '18:00 ',\n",
       "  'id': 'www_20181117',\n",
       "  'start': ' 19:00',\n",
       "  'title': '東京塩麹 “You Can Dance” Release Tour'},\n",
       " {'artist': 'ナナヲアカリ',\n",
       "  'date': '20181108',\n",
       "  'place': 'WWW',\n",
       "  'open': '18:00 ',\n",
       "  'id': 'www_20181108',\n",
       "  'start': ' 19:00',\n",
       "  'title': 'ナナヲアカリフライングワンマンツアー 〜こんにちは!巷で噂のダメ天使〜'},\n",
       " {'artist': 'BIGYUKI',\n",
       "  'date': '20181126',\n",
       "  'place': 'WWW',\n",
       "  'open': '18:00 ',\n",
       "  'id': 'www_20181126',\n",
       "  'start': ' 19:00',\n",
       "  'title': 'LIVE IN TOKYO 2018'},\n",
       " {'artist': 'CAPESON',\n",
       "  'date': '20181115',\n",
       "  'place': 'WWW',\n",
       "  'open': '18:00 ',\n",
       "  'id': 'www_20181115',\n",
       "  'start': ' 19:00',\n",
       "  'title': 'CAPESON LIVE AT SHIBUYA WWW'},\n",
       " {'artist': 'APOKALIPPPS / ZOC / ヤなことそっとミュート',\n",
       "  'date': '20181130',\n",
       "  'place': 'WWW',\n",
       "  'open': '18:00 ',\n",
       "  'id': 'www_20181130',\n",
       "  'start': ' 19:00',\n",
       "  'title': 'APOKALIPPPS 1st Anniversary 『アポカリ大草原不可避』'},\n",
       " {'artist': '電波少女 / Jinmenusagi / RAq / トップハムハット狂 a.k.a AO',\n",
       "  'date': '20181118',\n",
       "  'place': 'WWW X',\n",
       "  'open': '18:00 ',\n",
       "  'id': 'www_20181118',\n",
       "  'start': ' 19:00',\n",
       "  'title': '“シークレットツアー”'},\n",
       " {'artist': 'Cö shu Nie',\n",
       "  'date': '20181127',\n",
       "  'place': 'WWW X',\n",
       "  'open': '18:00 ',\n",
       "  'id': 'www_20181127',\n",
       "  'start': ' 19:00',\n",
       "  'title': 'Cö shu Nie Tour 2018 ”Auroral flare”'},\n",
       " {'artist': '美波',\n",
       "  'date': '20181113',\n",
       "  'place': 'WWW',\n",
       "  'open': '18:00 ',\n",
       "  'id': 'www_20181113',\n",
       "  'start': ' 19:00',\n",
       "  'title': '「アメヲマツ、」'},\n",
       " {'artist': '金子ノブアキ',\n",
       "  'date': '20181104',\n",
       "  'place': 'WWW X',\n",
       "  'open': '18:00 ',\n",
       "  'id': 'www_20181104',\n",
       "  'start': ' 19:00',\n",
       "  'title': 'nobuaki kaneko showcase 2018 autumn'},\n",
       " {'artist': 'Yellow Studs / アシュラシンドローム / ビレッジマンズストア',\n",
       "  'date': '20181124',\n",
       "  'place': 'WWW',\n",
       "  'open': '18:00 ',\n",
       "  'id': 'www_20181124',\n",
       "  'start': ' 19:00',\n",
       "  'title': 'Yellow Studs 15周年企画「方位磁針」'},\n",
       " {'artist': 'ALVVAYS',\n",
       "  'date': '20181112',\n",
       "  'place': 'WWW X',\n",
       "  'open': '18:00 ',\n",
       "  'id': 'www_20181112',\n",
       "  'start': ' 19:00',\n",
       "  'title': 'ALVVAYS JAPAN TOUR 2018'},\n",
       " {'artist': 'Laurel Halo / Rashad Becker & Ena / Lemna & Naoto Tsujita / Filastine & Nova / Intercity-E...',\n",
       "  'date': '20181102',\n",
       "  'place': 'WWW & WWW X',\n",
       "  'open': '18:00 ',\n",
       "  'id': 'www_20181102',\n",
       "  'start': ' 19:00',\n",
       "  'title': 'Nocturne 2 MUTEK.JP × Resident Advisor'},\n",
       " {'artist': 'ヒグチアイ / 片平里菜',\n",
       "  'date': '20181128',\n",
       "  'place': 'WWW X',\n",
       "  'open': '18:00 ',\n",
       "  'id': 'www_20181128',\n",
       "  'start': ' 19:00',\n",
       "  'title': 'HIGUCHIAI presents 好きな人の好きな人 meets 片平里菜'},\n",
       " {'artist': 'BLOSSOMS / Support act: DATS',\n",
       "  'date': '20181107',\n",
       "  'place': 'WWW X',\n",
       "  'open': '18:00 ',\n",
       "  'id': 'www_20181107',\n",
       "  'start': ' 19:00',\n",
       "  'title': 'JAPAN TOUR 2018'},\n",
       " {'artist': 'Sik-k / HAON / Woodie Gochild / pH-1',\n",
       "  'date': '20181123',\n",
       "  'place': 'WWW',\n",
       "  'open': '18:00 ',\n",
       "  'id': 'www_20181123',\n",
       "  'start': ' 19:00',\n",
       "  'title': 'H1GHR Music Records in Tokyo 2018 Presented by lute'},\n",
       " {'artist': \"SUZANNE CIANI / FRANCESCO DONADELLO / JIM O'ROURKE / KENICHI TAKAGI / KUZMA PALKIN / KORAB...\",\n",
       "  'date': '20181116',\n",
       "  'place': 'WWW',\n",
       "  'open': '18:00 ',\n",
       "  'id': 'www_20181116',\n",
       "  'start': ' 19:00',\n",
       "  'title': 'An Evening With Black Corporation'},\n",
       " {'artist': 'HOWL BE QUIET',\n",
       "  'date': '20181110',\n",
       "  'place': 'WWW',\n",
       "  'open': '18:00 ',\n",
       "  'id': 'www_20181110',\n",
       "  'start': ' 19:00',\n",
       "  'title': 'ONE MAN LIVE「PLAYBACK」'}]"
      ]
     },
     "execution_count": 75,
     "metadata": {},
     "output_type": "execute_result"
    }
   ],
   "source": [
    "table.scan()['Items']"
   ]
  },
  {
   "cell_type": "code",
   "execution_count": null,
   "metadata": {},
   "outputs": [],
   "source": [
    "sess."
   ]
  },
  {
   "cell_type": "code",
   "execution_count": null,
   "metadata": {},
   "outputs": [],
   "source": [
    "'.next .pageLink'"
   ]
  },
  {
   "cell_type": "code",
   "execution_count": 50,
   "metadata": {},
   "outputs": [],
   "source": [
    "e = ls_events[0]"
   ]
  },
  {
   "cell_type": "code",
   "execution_count": 51,
   "metadata": {},
   "outputs": [
    {
     "data": {
      "text/plain": [
       "'20181101'"
      ]
     },
     "execution_count": 51,
     "metadata": {},
     "output_type": "execute_result"
    }
   ],
   "source": [
    "e.date.strftime('%Y%m%d')"
   ]
  },
  {
   "cell_type": "code",
   "execution_count": 40,
   "metadata": {},
   "outputs": [],
   "source": [
    "from datetime import datetime"
   ]
  },
  {
   "cell_type": "code",
   "execution_count": 1,
   "metadata": {},
   "outputs": [],
   "source": [
    "from dotenv import load_dotenv\n",
    "\n",
    "import os\n",
    "from pathlib import Path\n",
    "\n",
    "pj_dir = Path(os.getcwd()).parents[1]\n",
    "\n",
    "load_dotenv(pj_dir/'.env')\n",
    "\n",
    "os.environ.get('AWS_ACCESS_KEY'), \n",
    "\n",
    "from boto3.session import Session\n",
    "\n",
    "aws_access_key_id = os.environ.get('AWS_ACCESS_KEY')\n",
    "aws_secret_access_key = os.environ.get('AWS_SECRET_KEY')\n",
    "\n",
    "session = Session(aws_access_key_id=aws_access_key_id, aws_secret_access_key=aws_secret_access_key)\n",
    "dynamodb = session.resource('dynamodb', region_name='ap-northeast-1')"
   ]
  },
  {
   "cell_type": "code",
   "execution_count": 21,
   "metadata": {},
   "outputs": [],
   "source": [
    "table_name = 'Foo'\n",
    "table = dynamodb.Table(table_name)"
   ]
  },
  {
   "cell_type": "code",
   "execution_count": 22,
   "metadata": {},
   "outputs": [
    {
     "data": {
      "text/plain": [
       "{'ResponseMetadata': {'RequestId': 'MCK1I1N5NDHSR7INJSD2M90QANVV4KQNSO5AEMVJF66Q9ASUAAJG',\n",
       "  'HTTPStatusCode': 200,\n",
       "  'HTTPHeaders': {'server': 'Server',\n",
       "   'date': 'Sun, 25 Nov 2018 06:14:27 GMT',\n",
       "   'content-type': 'application/x-amz-json-1.0',\n",
       "   'content-length': '2',\n",
       "   'connection': 'keep-alive',\n",
       "   'x-amzn-requestid': 'MCK1I1N5NDHSR7INJSD2M90QANVV4KQNSO5AEMVJF66Q9ASUAAJG',\n",
       "   'x-amz-crc32': '2745614147'},\n",
       "  'RetryAttempts': 0}}"
      ]
     },
     "execution_count": 22,
     "metadata": {},
     "output_type": "execute_result"
    }
   ],
   "source": [
    "test_data = {\n",
    "    'id': 'hogehoge', \n",
    "    'test': 'hello22',\n",
    "    'foo': 'bar'\n",
    "}\n",
    "\n",
    "table.put_item(Item=test_data)"
   ]
  },
  {
   "cell_type": "code",
   "execution_count": null,
   "metadata": {},
   "outputs": [],
   "source": []
  }
 ],
 "metadata": {
  "kernelspec": {
   "display_name": "Python 3",
   "language": "python",
   "name": "python3"
  },
  "language_info": {
   "codemirror_mode": {
    "name": "ipython",
    "version": 3
   },
   "file_extension": ".py",
   "mimetype": "text/x-python",
   "name": "python",
   "nbconvert_exporter": "python",
   "pygments_lexer": "ipython3",
   "version": "3.6.5"
  }
 },
 "nbformat": 4,
 "nbformat_minor": 2
}
